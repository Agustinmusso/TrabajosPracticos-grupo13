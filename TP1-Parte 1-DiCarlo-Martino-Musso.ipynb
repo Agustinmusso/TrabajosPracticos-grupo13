{
 "cells": [
  {
   "cell_type": "markdown",
   "metadata": {
    "collapsed": true
   },
   "source": [
    "# Curso de Big Data\n",
    "\n",
    "## Trabajo Practico 1 - Parte 1"
   ]
  },
  {
   "cell_type": "markdown",
   "metadata": {},
   "source": [
    "### Reglas de formato y presentación\n",
    "- El trabajo debe estar bien comentado (utilizando #) para que el codigo sea facíl de entender por sus compañeros y profesores.\n",
    "\n",
    "- El mismo debe ser completado en este Jupyter Notebook y entregado como tal, es decir en un archivo .ipynb\n"
   ]
  },
  {
   "cell_type": "markdown",
   "metadata": {},
   "source": [
    "### Fecha de entrega:\n",
    "Lunes 23/8 a las 23:59hs"
   ]
  },
  {
   "cell_type": "markdown",
   "metadata": {},
   "source": [
    "### Modalidad de entrega\n",
    "- Al finalizar el trabajo práctico deben hacer un último <i>commit</i> en su repositorio de GitHub con el mensaje “Entrega final del tp”. \n",
    "- Asegurense de haber creado una carpeta llamada TP1. Este Jupyter Notebook y el correspondiente al TP1 - Parte 2 deben estar dentro de esa carpeta.\n",
    "- Tambíen deben completar el link de su repositorio -para que pueda ser clonado y corregido- en la siguiente google sheet: https://docs.google.com/spreadsheets/d/1qaXCveEw3MjEwXQsu2zpqUz34BiaCMR0WapcsQ7jGs0/edit?usp=sharing\n",
    "- La última versión en el repositorio es la que será evaluada. Por lo que es importante que: \n",
    "    - No completen la google sheet hasta no haber terminado y estar seguros de que han hecho el <i>commit y push</i> a la versión final que quieren entregar. Debido a que se pueden tomar hasta 3 días de extensión a lo largo del curso, yo no corregiré sus tareas hasta no ver el link en la google sheet.\n",
    "    - No hagan nuevos <i>push</i> despues de habér entregado su versión final. Esto generaría confusión acerca de que versión es la que quieren que se les corrija. "
   ]
  },
  {
   "cell_type": "markdown",
   "metadata": {},
   "source": [
    "#### Ejercicio 1\n",
    "Este ejercicio simplemente busca repasar lo que aprendimos sobre definición de variables. Definí tres variables con un nombre combinado (al menos dos palabras): \n",
    "(a) Una siguiendo las buenas prácticas. \n",
    "(b) Hacer lo mismo de manera técnicamente correcta (sin error) pero sin seguir las buenas prácticas. \n",
    "(c) Intentar definir una variable con un nombre inacceptable (genera error)."
   ]
  },
  {
   "cell_type": "code",
   "execution_count": 5,
   "metadata": {},
   "outputs": [
    {
     "ename": "SyntaxError",
     "evalue": "cannot assign to True (<ipython-input-5-1ab3c894d50e>, line 8)",
     "output_type": "error",
     "traceback": [
      "\u001b[1;36m  File \u001b[1;32m\"<ipython-input-5-1ab3c894d50e>\"\u001b[1;36m, line \u001b[1;32m8\u001b[0m\n\u001b[1;33m    True= 'Boca juniors tiene 6 libertadores'\u001b[0m\n\u001b[1;37m    ^\u001b[0m\n\u001b[1;31mSyntaxError\u001b[0m\u001b[1;31m:\u001b[0m cannot assign to True\n"
     ]
    }
   ],
   "source": [
    "#Nombramos la variable de nombre del equipo, en este caso, Boca Juniors, un equipo de futbol.\n",
    "nombre_equipo = 'Boca Juniors'\n",
    " print(nombre_equipo)\n",
    "#Para no seguir con las buenas práctcas, asignamos a la variable nombre la cantidad de espectadores del estadio.\n",
    "nombre= '49000 espectadores'\n",
    " print(nombre)   \n",
    "#Para que nos salte error, asignamos la variable verdadero a la afirmación sobre la cantidad de títulos.\n",
    "True= 'Boca juniors tiene 6 libertadores'\n",
    "print(true)"
   ]
  },
  {
   "cell_type": "markdown",
   "metadata": {},
   "source": [
    "#### Ejercicio 2\n",
    "Este ejercicio trata sobre la sustitución de variables y el uso de variables temporales para hacerlo. Las variables temporales y la sustitución de valores termina siendo útil en algunos loops. Los pasos a seguir son: (a) definir variables A y B (cuyos valores buscaremos invertir); (b) definir una variable temporal que resguarde el valor de B; (c) sustitución (asignar B igual a A y también A igual al valor original de B); (d) imprimir valores para verificar."
   ]
  },
  {
   "cell_type": "code",
   "execution_count": 101,
   "metadata": {},
   "outputs": [
    {
     "name": "stdout",
     "output_type": "stream",
     "text": [
      "2\n",
      "1\n"
     ]
    }
   ],
   "source": [
    "# Definimos las variables A y B, \n",
    "a = 1\n",
    "b = 2\n",
    "a,b\n",
    "# Asignamos la variable temporal igual a b para luego sustituir\n",
    "temp = b\n",
    "#Sustituimos las variables, igualando b con a y finalmente, la variable temporal con a.\n",
    "b = a\n",
    "a = temp\n",
    "#Verificamos que se han sustituido correctamente:\n",
    "print(a)\n",
    "print(b)\n"
   ]
  },
  {
   "cell_type": "markdown",
   "metadata": {},
   "source": [
    "#### Ejercicio 3\n",
    "Pongamos en práctica el uso de range() en un for loop. \n",
    "\n",
    "Construir un for loop usando un range(). El range debe ser entre los valores que quieran (con una diferencia mínima de 15 entre start y stop), en incrementos de 3 unidades. Dentro del loop, implementar una sentencia condicional que imprimar una leyenda indicando si el input es par o impar.\n",
    "\n",
    "Nota: busquen en internet como usar range(). Ej: https://pynative.com/python-range-function/#h-range-start-stop-step"
   ]
  },
  {
   "cell_type": "code",
   "execution_count": 64,
   "metadata": {},
   "outputs": [
    {
     "name": "stdout",
     "output_type": "stream",
     "text": [
      "El número 2 es par.\n",
      "El número 8 es par.\n",
      "El número 14 es par.\n",
      "El número 20 es par.\n",
      "El número 26 es par.\n",
      "El número 32 es par.\n",
      "El número 38 es par.\n",
      "El número 44 es par.\n",
      "El número 47 es impar.\n"
     ]
    }
   ],
   "source": [
    "# start = 2\n",
    "# stop = 50\n",
    "# step = 3 (increment)\n",
    "#Construimos el loop asignandole la leyenda sobre si el número es par o impar.\n",
    "for i in range(2, 50, 3):\n",
    "    if i % 2 == 0:\n",
    "        print('El número', i, 'es par.')\n",
    "else:\n",
    "        print('El número', i, 'es impar.')\n",
    "    "
   ]
  },
  {
   "cell_type": "markdown",
   "metadata": {},
   "source": [
    "#### Ejercicio 4\n",
    "Para practicar el uso de condiciones lógicas, construyamos una sentencia condicional que verifique si un año es bisiesto o no. Para que un año sea bisiesto debe cumplir una de dos condiciones:\n",
    "\n",
    "(a) que sea divisible por 400; o\n",
    "\n",
    "(b) que sea divisible por 4 y no sea divisible por 100\n",
    "\n",
    "Nótese que son dos condiciones, dónde la segunda condición tiene dos componentes. Prueben la sentencia con una serie de valores para verificar que funcione."
   ]
  },
  {
   "cell_type": "code",
   "execution_count": 67,
   "metadata": {},
   "outputs": [
    {
     "name": "stdout",
     "output_type": "stream",
     "text": [
      "El año 2012 es bisiesto\n",
      "El año 2013 no es bisiesto\n",
      "El año 2014 no es bisiesto\n",
      "El año 2015 no es bisiesto\n",
      "El año 2016 es bisiesto\n",
      "El año 2017 no es bisiesto\n",
      "El año 2018 no es bisiesto\n",
      "El año 2019 no es bisiesto\n",
      "El año 2020 es bisiesto\n",
      "El año 2021 no es bisiesto\n"
     ]
    }
   ],
   "source": [
    "#Definimos una serie de años para los cuales se analizara si son bisiestos o no\n",
    "year= (2012,2013,2014,2015,2016,2017,2018,2019,2020,2021) \n",
    "#Generamos el loop con las tres condiciones, las dos que implcian que es bisiesto y la alternativa donde no lo es.\n",
    "for i in year:\n",
    "    if i%400==0: \n",
    "        print(\"El año\", i, \"es bisiesto\")\n",
    "    if i%4==0 and i%100!=0:\n",
    "        print(\"El año\", i, \"es bisiesto\")\n",
    "    else:\n",
    "        print(\"El año\", i, \"no es bisiesto\")\n"
   ]
  },
  {
   "cell_type": "markdown",
   "metadata": {
    "collapsed": true
   },
   "source": [
    "#### Ejercicio 5\n",
    "Pongamos en práctica identificar el type() de cada variable. A continuación tenemos una lista con elementos de diferentes tipos. Construyan un for loop que itere sobre la lista e imprima un cartel indicando el tipo de dato que hay en cada caso.\n",
    "\n",
    "_Ayuda: hay por lo menos dos maneras de hacer esto. En una se usa una sentencia condicional, en otra hay que usar casteo para evitar un error. Ambas son aceptables._\n"
   ]
  },
  {
   "cell_type": "code",
   "execution_count": 141,
   "metadata": {},
   "outputs": [
    {
     "name": "stdout",
     "output_type": "stream",
     "text": [
      "['Ind', 7, 'Boc', 6, 'Riv', 4, 'Est', 4]\n",
      "Ind is a string\n",
      "7 is an integer\n",
      "Boc is a string\n",
      "6 is an integer\n",
      "Riv is a string\n",
      "4 is an integer\n",
      "Est is a string\n",
      "4 is an integer\n"
     ]
    }
   ],
   "source": [
    "#Generamos una lista con variables de distintos tipo.\n",
    "Equipos_Libertadores_Arg= [\"Ind\", 7, \"Boc\", 6, \"Riv\", 4, \"Est\", 4]\n",
    "print(Equipos_Libertadores_Arg)\n",
    "#Realizamos un loop para que nos indique \"X is a string or an integer\" dependiendo de su tipo.\n",
    "for i in Equipos_Libertadores_Arg:\n",
    "    if isinstance(i, (int)):\n",
    "        print(i, \"is an integer\")\n",
    "    if isinstance(i, (str)):\n",
    "        print(i, \"is a string\")    \n"
   ]
  },
  {
   "cell_type": "markdown",
   "metadata": {},
   "source": [
    "#### Ejercicio 6\n",
    "Ahora definan ustedes una lista, en la que los primeros 4 elementos sean palabras (strings) la 5ta no sea string, y la 6ta sea string. Construyan un for loop que corra por la lista y que imprima la palabra y la longitud de la misma. Que el loop contenga una sentencia condicional que imprima un cartel \"Elemento no es un string: < el elemento > | < class del elemento >\" para los casos dónde el elemento evaluado no sea string.\n"
   ]
  },
  {
   "cell_type": "code",
   "execution_count": 143,
   "metadata": {},
   "outputs": [
    {
     "name": "stdout",
     "output_type": "stream",
     "text": [
      "['Arg', 'Bra', 'Par', 'Uru', 150, 'Bol']\n",
      "3\n",
      "El elemento Arg es un string\n",
      "3\n",
      "El elemento Bra es un string\n",
      "3\n",
      "El elemento Par es un string\n",
      "3\n",
      "El elemento Uru es un string\n",
      "El elemento 150 no es un string.\n",
      "3\n",
      "El elemento Bol es un string\n"
     ]
    }
   ],
   "source": [
    "#Generamos la lista que se nos pide con 5 strings y 1 no string. \n",
    "Lista= [\"Arg\", \"Bra\", \"Par\", \"Uru\", 150, \"Bol\"]\n",
    "print(Lista)\n",
    "#Realizamos un loop donde tenemos tres condiciones. La primera imprime la longitud de la palabra.\n",
    "#Las otras dos condiciones son para que indique si el elemento es un string o no.\n",
    "for i in Lista:\n",
    "    if isinstance(i, (str)):\n",
    "        print (len(i))\n",
    "    if isinstance(i, (int)):\n",
    "        print(\"El elemento\",i,\"no es un string.\")\n",
    "    if isinstance(i, (str)):\n",
    "        print(\"El elemento\",i,\"es un string\") "
   ]
  },
  {
   "cell_type": "markdown",
   "metadata": {},
   "source": [
    "#### Ejercicio 7\n",
    "Argentina tiene una representación legislativa proporcional en la cual la cantidad de diputados se debería ajustar según el tamaño de población de cada provincia. Otra característica de la representación legislativa del país es que hay una cantidad mínima de diputados por provincia (5). Esto genera un desbalance en la cantidad de ciudadanos por cada representante en el Congreso entre provincias.\n",
    "\n",
    "A continuación preparamos algunos ejemplos, dividiendo la población de cada provincia (según el Censo 2010) por la cantida de representantes en el Congreso para esa misma jurisdicción. También armamos el equivalente para el total país y una lista con los valores provinciales.\n",
    "\n",
    "En este ejercicio les pedimos que construyan un for loop que itere sobre la lista definida y compare cada valor provincial contra el valor de proporcionalidad directa (la variable argentina). El loop debe imprimir una leyenda que indique si la provincia está sobrerepresentada, subrepresentada o con representación proporcional. Además, queremos que el mismo loop compare los valores de las provincias sobrerepresentadas y que guarde el valor de la provincia con mayor sobrerepresentación. Luego del loop impriman este valor así podemos ver que haya funcionado.\n",
    "\n",
    "_Ayuda: el ejercicio 2 les puede ayudar para resolver parte de este problema._\n",
    "\n",
    "Fuente para población: https://es.wikipedia.org/wiki/Demograf%C3%ADa_de_Argentina\n",
    "\n",
    "Fuente para representantes: https://es.wikipedia.org/wiki/C%C3%A1mara_de_Diputados_de_la_Naci%C3%B3n_Argentina"
   ]
  },
  {
   "cell_type": "code",
   "execution_count": 145,
   "metadata": {},
   "outputs": [],
   "source": [
    "# valor de referencia: proporcionalidad\n",
    "argentina = 40117096 / 256\n",
    "\n",
    "# creamos variables para una selección de jurisdicciones\n",
    "catamarca = 367820 / 5\n",
    "buenos_aires = 15594428 / 70\n",
    "misiones = 1097829 / 7\n",
    "tierra_fuego = 126190 / 5\n",
    "tucuman = 1592878 / 9\n",
    "\n",
    "# definimos la lista para iterar\n",
    "lista_provincias = [catamarca, buenos_aires, misiones, tierra_fuego, tucuman]"
   ]
  },
  {
   "cell_type": "code",
   "execution_count": 148,
   "metadata": {},
   "outputs": [
    {
     "name": "stdout",
     "output_type": "stream",
     "text": [
      "Sobrerepresentadas\n",
      "Subrepresentada\n",
      "Subrepresentada\n",
      "Sobrerepresentadas\n",
      "Subrepresentada\n",
      "La provincia más sobrerrepresentada es:  222777.54285714286\n"
     ]
    }
   ],
   "source": [
    "# resuelvan acá:\n",
    "#Generamos un loop con dos condiciones. Las dos condiciones expresan cuan diferentes es la cantidad de representantes\n",
    "#Aquellos que están por encima de ese número están subrepresentadas (menos representantes por población) y las\n",
    "#que están por debajo están sobrerepresentadas. Por último,imprimimos una leyenda con la más sobrerepresentada.\n",
    "for i in lista_provincias:\n",
    "    if i>argentina:\n",
    "        print(\"Subrepresentada\")\n",
    "    if i<argentina:\n",
    "        print(\"Sobrerepresentadas\")\n",
    "print(\"La provincia más sobrerrepresentada es: \", max(lista_provincias))\n"
   ]
  },
  {
   "cell_type": "markdown",
   "metadata": {},
   "source": [
    "#### Ejercicio 8\n",
    "Si buscáramos minimizar la subrepresentación de la provincia de Buenos Aires, ¿cuántos representantes debería tener según el Censo 2010? Usemos el mismo criterio de sub/sobrerepresentacion que en el ejercicio anterior: población sobre cantidad de representantes.\n",
    "\n",
    "Para responder esta pregunta construyan un while loop que incremente de a uno la cantidad de representantes de la Provincia hasta minimizar la subrepresentación. En cada iteración impriman un cartel que diga: \"Se agregó un represntante, el total ahora es X\" dónde X es el número de representantes simulado."
   ]
  },
  {
   "cell_type": "code",
   "execution_count": 149,
   "metadata": {},
   "outputs": [],
   "source": [
    "# estos son los valores de la provincia\n",
    "representantes_pba = 70\n",
    "poblacion2010_pba = 15594428\n",
    "\n",
    "\n",
    "# y el valor de referencia nacional\n",
    "argentina = 40117096 / 256\n"
   ]
  },
  {
   "cell_type": "code",
   "execution_count": 150,
   "metadata": {},
   "outputs": [
    {
     "name": "stdout",
     "output_type": "stream",
     "text": [
      "Se agregó un represntante, el total ahora es  70\n",
      "Se agregó un represntante, el total ahora es  71\n",
      "Se agregó un represntante, el total ahora es  72\n",
      "Se agregó un represntante, el total ahora es  73\n",
      "Se agregó un represntante, el total ahora es  74\n",
      "Se agregó un represntante, el total ahora es  75\n",
      "Se agregó un represntante, el total ahora es  76\n",
      "Se agregó un represntante, el total ahora es  77\n",
      "Se agregó un represntante, el total ahora es  78\n",
      "Se agregó un represntante, el total ahora es  79\n",
      "Se agregó un represntante, el total ahora es  80\n",
      "Se agregó un represntante, el total ahora es  81\n",
      "Se agregó un represntante, el total ahora es  82\n",
      "Se agregó un represntante, el total ahora es  83\n",
      "Se agregó un represntante, el total ahora es  84\n",
      "Se agregó un represntante, el total ahora es  85\n",
      "Se agregó un represntante, el total ahora es  86\n",
      "Se agregó un represntante, el total ahora es  87\n",
      "Se agregó un represntante, el total ahora es  88\n",
      "Se agregó un represntante, el total ahora es  89\n",
      "Se agregó un represntante, el total ahora es  90\n",
      "Se agregó un represntante, el total ahora es  91\n",
      "Se agregó un represntante, el total ahora es  92\n",
      "Se agregó un represntante, el total ahora es  93\n",
      "Se agregó un represntante, el total ahora es  94\n",
      "Se agregó un represntante, el total ahora es  95\n",
      "Se agregó un represntante, el total ahora es  96\n",
      "Se agregó un represntante, el total ahora es  97\n",
      "Se agregó un represntante, el total ahora es  98\n",
      "Se agregó un represntante, el total ahora es  99\n",
      "Optimizado en 100 representantes\n"
     ]
    }
   ],
   "source": [
    "#Calculamos que la cantidad óptima de representantes para la provincia de Buenos Aires, teniendo en cuenta su población es 100.\n",
    "#Generamos entonces, un while loop donde incrementa en uno la cantidad de representantes hasta llegar a los 100\n",
    "#y cuando llega imprimimos una leyenda indicando que esta optimizado.\n",
    "RepOptima=100\n",
    "while (representantes_pba < 100):\n",
    "    print (\"Se agregó un represntante, el total ahora es \", representantes_pba)\n",
    "    representantes_pba = representantes_pba + 1\n",
    "print(\"Optimizado en 100 representantes\")\n"
   ]
  },
  {
   "cell_type": "code",
   "execution_count": null,
   "metadata": {},
   "outputs": [],
   "source": []
  },
  {
   "cell_type": "code",
   "execution_count": null,
   "metadata": {},
   "outputs": [],
   "source": []
  }
 ],
 "metadata": {
  "anaconda-cloud": {},
  "kernelspec": {
   "display_name": "Python 3",
   "language": "python",
   "name": "python3"
  },
  "language_info": {
   "codemirror_mode": {
    "name": "ipython",
    "version": 3
   },
   "file_extension": ".py",
   "mimetype": "text/x-python",
   "name": "python",
   "nbconvert_exporter": "python",
   "pygments_lexer": "ipython3",
   "version": "3.8.8"
  }
 },
 "nbformat": 4,
 "nbformat_minor": 2
}
