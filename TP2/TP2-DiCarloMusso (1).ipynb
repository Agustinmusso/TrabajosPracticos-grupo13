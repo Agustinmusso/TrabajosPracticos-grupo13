{
 "cells": [
  {
   "cell_type": "code",
   "execution_count": 1,
   "id": "318ff687",
   "metadata": {},
   "outputs": [],
   "source": [
    "import pandas as pd\n",
    "import numpy as np\n",
    "import matplotlib . pyplot as plt"
   ]
  },
  {
   "cell_type": "code",
   "execution_count": 37,
   "id": "5e74b733",
   "metadata": {},
   "outputs": [
    {
     "name": "stdout",
     "output_type": "stream",
     "text": [
      "                              CODUSU  ANO4  TRIMESTRE  NRO_HOGAR  COMPONENTE  \\\n",
      "0      TQRMNOPPQHLKLMCDEFIAH00646702  2021          1          1           1   \n",
      "1      TQRMNOPPRHLKLMCDEFIAH00665104  2021          1          1           1   \n",
      "2      TQRMNOPPRHMOLQCDEFIAH00701809  2021          1          1           1   \n",
      "3      TQRMNOPPRHMOLQCDEFIAH00701809  2021          1          1           2   \n",
      "4      TQRMNOPPRHMOLQCDEFIAH00701809  2021          1          1           3   \n",
      "...                              ...   ...        ...        ...         ...   \n",
      "46688  TQSMNOTRYHLOKPCDEOJAH00652060  2021          1          1           1   \n",
      "46689  TQSMNOTRYHLOKPCDEOJAH00652060  2021          1          1           3   \n",
      "46690  TQSMNOTRYHLOKPCDEOJAH00652060  2021          1          1           4   \n",
      "46691  TQSMNOTRYHLOKPCDEOJAH00652060  2021          1          1           5   \n",
      "46692  TQSMNOTRYHLOKPCDEOJAH00652060  2021          1          1           6   \n",
      "\n",
      "       H15  REGION MAS_500  AGLOMERADO  PONDERA  ...  PDECIFR  ADECIFR  \\\n",
      "0        1      43       S           2      675  ...      0.0      3.0   \n",
      "1        1      43       S           2      675  ...      0.0      2.0   \n",
      "2        1      43       S           2      559  ...      0.0     12.0   \n",
      "3        1      43       S           2      559  ...      0.0     12.0   \n",
      "4        1      43       S           2      559  ...      0.0     12.0   \n",
      "...    ...     ...     ...         ...      ...  ...      ...      ...   \n",
      "46688    1      44       N          93      108  ...      6.0      5.0   \n",
      "46689    1      44       N          93      108  ...      6.0      5.0   \n",
      "46690    0      44       N          93      108  ...      6.0      5.0   \n",
      "46691    0      44       N          93      108  ...      6.0      5.0   \n",
      "46692    0      44       N          93      108  ...      6.0      5.0   \n",
      "\n",
      "          IPCF  DECCFR  IDECCFR  RDECCFR  GDECCFR  PDECCFR  ADECCFR  PONDIH  \n",
      "0      40000.0     8.0      8.0      8.0      8.0      0.0      7.0    1377  \n",
      "1      25000.0     6.0      6.0      6.0      6.0      0.0      5.0     723  \n",
      "2          0.0    12.0     12.0     12.0     12.0      0.0     12.0       0  \n",
      "3          0.0    12.0     12.0     12.0     12.0      0.0     12.0       0  \n",
      "4          0.0    12.0     12.0     12.0     12.0      0.0     12.0       0  \n",
      "...        ...     ...      ...      ...      ...      ...      ...     ...  \n",
      "46688  10800.0     2.0      2.0      2.0      0.0      3.0      1.0      73  \n",
      "46689  10800.0     2.0      2.0      2.0      0.0      3.0      1.0      73  \n",
      "46690  10800.0     2.0      2.0      2.0      0.0      3.0      1.0      73  \n",
      "46691  10800.0     2.0      2.0      2.0      0.0      3.0      1.0      73  \n",
      "46692  10800.0     2.0      2.0      2.0      0.0      3.0      1.0      73  \n",
      "\n",
      "[46693 rows x 177 columns]\n"
     ]
    }
   ],
   "source": [
    "df = pd.read_excel(r'C:/Users/Federico/Desktop/UdeSA/Maestría/Big Data/TP2/EPH_usu_1_Trim_2021_xls/EPH_usu_1_2021_xls/usu_individual_T121.xlsx')\n",
    "print (df)"
   ]
  },
  {
   "cell_type": "code",
   "execution_count": 38,
   "id": "d5cc1b75",
   "metadata": {},
   "outputs": [
    {
     "name": "stdout",
     "output_type": "stream",
     "text": [
      "                              CODUSU  ANO4  TRIMESTRE  NRO_HOGAR  COMPONENTE  \\\n",
      "36799  TQRMNOPPRHKMLNCDEIIAD00655703  2021          1          1           1   \n",
      "36800  TQRMNOPPRHKMLNCDEIIAD00655703  2021          1          1           2   \n",
      "36801  TQRMNOPPWHKMNUCDEIIAD00655837  2021          1          1           1   \n",
      "36802  TQRMNOPPWHKMNUCDEIIAD00655837  2021          1          1           2   \n",
      "36803  TQRMNOPPWHKMNUCDEIIAD00655837  2021          1          1           3   \n",
      "...                              ...   ...        ...        ...         ...   \n",
      "40876  TQUMNOQWTHLOTOCDEIJAH00698524  2021          1          1           2   \n",
      "40877  TQUMNORVRHMMLLCDEIJAH00698180  2021          1          1           1   \n",
      "40878  TQUMNORVRHMMLLCDEIJAH00698180  2021          1          1           2   \n",
      "40879  TQUMNORVRHMMLLCDEIJAH00698180  2021          1          1           3   \n",
      "40880  TQVMNOPYPHLOTOCDEIJAH00693364  2021          1          2           1   \n",
      "\n",
      "       H15  REGION MAS_500  AGLOMERADO  PONDERA  ...  PDECIFR  ADECIFR  \\\n",
      "36799    1       1       S          32     1394  ...      0.0     10.0   \n",
      "36800    1       1       S          32     1394  ...      0.0     10.0   \n",
      "36801    1       1       S          32     3090  ...      0.0     12.0   \n",
      "36802    1       1       S          32     3090  ...      0.0     12.0   \n",
      "36803    1       1       S          32     3090  ...      0.0     12.0   \n",
      "...    ...     ...     ...         ...      ...  ...      ...      ...   \n",
      "40876    1       1       S          33     1745  ...      0.0      3.0   \n",
      "40877    1       1       S          33     2064  ...      0.0      2.0   \n",
      "40878    1       1       S          33     2064  ...      0.0      2.0   \n",
      "40879    1       1       S          33     2064  ...      0.0      2.0   \n",
      "40880    1       1       S          33     1318  ...      0.0      2.0   \n",
      "\n",
      "           IPCF  DECCFR  IDECCFR  RDECCFR  GDECCFR  PDECCFR  ADECCFR  PONDIH  \n",
      "36799  127500.0    10.0      0.0     10.0     10.0      0.0     10.0    2494  \n",
      "36800  127500.0    10.0      0.0     10.0     10.0      0.0     10.0    2494  \n",
      "36801       0.0    12.0      0.0     12.0     12.0      0.0     12.0       0  \n",
      "36802       0.0    12.0      0.0     12.0     12.0      0.0     12.0       0  \n",
      "36803       0.0    12.0      0.0     12.0     12.0      0.0     12.0       0  \n",
      "...         ...     ...      ...      ...      ...      ...      ...     ...  \n",
      "40876   16650.0     4.0      0.0      4.0      4.0      0.0      5.0    2388  \n",
      "40877    6400.0     1.0      0.0      1.0      1.0      0.0      1.0    3654  \n",
      "40878    6400.0     1.0      0.0      1.0      1.0      0.0      1.0    3654  \n",
      "40879    6400.0     1.0      0.0      1.0      1.0      0.0      1.0    3654  \n",
      "40880   30000.0     7.0      0.0      7.0      7.0      0.0      7.0    1666  \n",
      "\n",
      "[4082 rows x 177 columns]\n"
     ]
    }
   ],
   "source": [
    "#I.2.a\n",
    "df.drop(df[df['AGLOMERADO'] < 32.0].index, inplace=True)\n",
    "df.drop(df[df['AGLOMERADO'] > 33.0].index, inplace=True)\n",
    "print(df)"
   ]
  },
  {
   "cell_type": "code",
   "execution_count": 39,
   "id": "328ef76a",
   "metadata": {},
   "outputs": [],
   "source": [
    "#I.2.b\n",
    "df.drop(df[df['PP06C'] < 0.0].index, inplace=True)\n",
    "df.drop(df[df['PP06D'] < 0.0].index, inplace=True)\n",
    "df.drop(df[df['PP08D1'] < 0.0].index, inplace=True)\n",
    "df.drop(df[df['PP08D4'] < 0.0].index, inplace=True)\n",
    "df.drop(df[df['PP08F1'] < 0.0].index, inplace=True)\n",
    "df.drop(df[df['PP08F2'] < 0.0].index, inplace=True)\n",
    "df.drop(df[df['PP08J1'] < 0.0].index, inplace=True)\n",
    "df.drop(df[df['PP08J2'] < 0.0].index, inplace=True)\n",
    "df.drop(df[df['PP08J3'] < 0.0].index, inplace=True)\n",
    "df.drop(df[df['PP11B2_MES'] < 0.0].index, inplace=True)\n",
    "df.drop(df[df['PP11B2_ANO'] < 0.0].index, inplace=True)\n",
    "df.drop(df[df['PP11B2_DIA'] < 0.0].index, inplace=True)\n",
    "df.drop(df[df['PP11C'] < 0.0].index, inplace=True)\n",
    "df.drop(df[df['PP11G_ANO'] < 0.0].index, inplace=True)\n",
    "df.drop(df[df['PP11G_MES'] < 0.0].index, inplace=True)\n",
    "df.drop(df[df['PP11G_DIA'] < 0.0].index, inplace=True)\n",
    "df.drop(df[df['P21'] < 0.0].index, inplace=True)\n",
    "df.drop(df[df['V2_M'] < 0.0].index, inplace=True)\n",
    "df.drop(df[df['V3_M'] < 0.0].index, inplace=True)\n",
    "df.drop(df[df['V4_M'] < 0.0].index, inplace=True)\n",
    "df.drop(df[df['V5_M'] < 0.0].index, inplace=True)\n",
    "df.drop(df[df['V8_M'] < 0.0].index, inplace=True)\n",
    "df.drop(df[df['V9_M'] < 0.0].index, inplace=True)\n",
    "df.drop(df[df['V10_M'] < 0.0].index, inplace=True)\n",
    "df.drop(df[df['V11_M'] < 0.0].index, inplace=True)\n",
    "df.drop(df[df['V12_M'] < 0.0].index, inplace=True)\n",
    "df.drop(df[df['V18_M'] < 0.0].index, inplace=True)\n",
    "df.drop(df[df['V19_AM'] < 0.0].index, inplace=True)\n",
    "df.drop(df[df['V21_M'] < 0.0].index, inplace=True)\n",
    "df.drop(df[df['ITF'] < 0.0].index, inplace=True)\n",
    "df.drop(df[df['IPCF'] < 0.0].index, inplace=True)\n"
   ]
  },
  {
   "cell_type": "code",
   "execution_count": 32,
   "id": "e9f3eb1f",
   "metadata": {},
   "outputs": [
    {
     "name": "stdout",
     "output_type": "stream",
     "text": [
      "                              CODUSU  ANO4  TRIMESTRE  NRO_HOGAR  COMPONENTE  \\\n",
      "36799  TQRMNOPPRHKMLNCDEIIAD00655703  2021          1          1           1   \n",
      "36800  TQRMNOPPRHKMLNCDEIIAD00655703  2021          1          1           2   \n",
      "36802  TQRMNOPPWHKMNUCDEIIAD00655837  2021          1          1           2   \n",
      "36803  TQRMNOPPWHKMNUCDEIIAD00655837  2021          1          1           3   \n",
      "36804  TQRMNOPPWHKMNUCDEIIAD00655837  2021          1          1           4   \n",
      "...                              ...   ...        ...        ...         ...   \n",
      "37790  TQUMNOSTYHLKKQCDEIIAD00650359  2021          1          1           1   \n",
      "37792  TQVMNOSTYHLKKQCDEIIAD00650333  2021          1          1           2   \n",
      "37793  TQVMNOSTYHLKKQCDEIIAD00650333  2021          1          1           3   \n",
      "37794  TQVMNOSUPHLKKQCDEIIAD00650453  2021          1          2           1   \n",
      "37795  TQVMNOSUPHLKKQCDEIIAD00650453  2021          1          2           2   \n",
      "\n",
      "       H15  REGION MAS_500  AGLOMERADO  PONDERA  ...  PDECIFR  ADECIFR  \\\n",
      "36799    1       1       S          32     1394  ...      0.0     10.0   \n",
      "36800    1       1       S          32     1394  ...      0.0     10.0   \n",
      "36802    1       1       S          32     3090  ...      0.0     12.0   \n",
      "36803    1       1       S          32     3090  ...      0.0     12.0   \n",
      "36804    1       1       S          32     3090  ...      0.0     12.0   \n",
      "...    ...     ...     ...         ...      ...  ...      ...      ...   \n",
      "37790    1       1       S          32     1251  ...      0.0      1.0   \n",
      "37792    1       1       S          32     3577  ...      0.0     12.0   \n",
      "37793    0       1       S          32     3577  ...      0.0     12.0   \n",
      "37794    1       1       S          32     2171  ...      0.0      6.0   \n",
      "37795    1       1       S          32     2171  ...      0.0      6.0   \n",
      "\n",
      "           IPCF  DECCFR  IDECCFR  RDECCFR  GDECCFR  PDECCFR  ADECCFR  PONDIH  \n",
      "36799  127500.0    10.0      0.0     10.0     10.0      0.0     10.0    2494  \n",
      "36800  127500.0    10.0      0.0     10.0     10.0      0.0     10.0    2494  \n",
      "36802       0.0    12.0      0.0     12.0     12.0      0.0     12.0       0  \n",
      "36803       0.0    12.0      0.0     12.0     12.0      0.0     12.0       0  \n",
      "36804       0.0    12.0      0.0     12.0     12.0      0.0     12.0       0  \n",
      "...         ...     ...      ...      ...      ...      ...      ...     ...  \n",
      "37790   27000.0     6.0      0.0      6.0      6.0      0.0      4.0    1624  \n",
      "37792       0.0    12.0      0.0     12.0     12.0      0.0     12.0       0  \n",
      "37793       0.0    12.0      0.0     12.0     12.0      0.0     12.0       0  \n",
      "37794   41250.0     8.0      0.0      8.0      8.0      0.0      6.0    3254  \n",
      "37795   41250.0     8.0      0.0      8.0      8.0      0.0      6.0    3254  \n",
      "\n",
      "[788 rows x 177 columns]\n"
     ]
    }
   ],
   "source": [
    "print (df)"
   ]
  },
  {
   "cell_type": "code",
   "execution_count": 46,
   "id": "4f4ac1f3",
   "metadata": {},
   "outputs": [
    {
     "ename": "SyntaxError",
     "evalue": "invalid syntax (<ipython-input-46-2e575957a66c>, line 1)",
     "output_type": "error",
     "traceback": [
      "\u001b[1;36m  File \u001b[1;32m\"<ipython-input-46-2e575957a66c>\"\u001b[1;36m, line \u001b[1;32m1\u001b[0m\n\u001b[1;33m    mujer = ch04 if CH04==2\u001b[0m\n\u001b[1;37m                           ^\u001b[0m\n\u001b[1;31mSyntaxError\u001b[0m\u001b[1;31m:\u001b[0m invalid syntax\n"
     ]
    }
   ],
   "source": []
  },
  {
   "cell_type": "code",
   "execution_count": 43,
   "id": "80a6e594",
   "metadata": {
    "scrolled": true
   },
   "outputs": [
    {
     "data": {
      "image/png": "[encoded data removed]",
      "text/plain": [
       "<Figure size 432x288 with 1 Axes>"
      ]
     },
     "metadata": {
      "needs_background": "light"
     },
     "output_type": "display_data"
    }
   ],
   "source": [
    "df.plot(x ='CH04', y='AGLOMERADO', kind = 'bar')\n",
    "plt.show()"
   ]
  },
  {
   "cell_type": "code",
   "execution_count": null,
   "id": "a0b95e00",
   "metadata": {},
   "outputs": [],
   "source": []
  }
 ],
 "metadata": {
  "kernelspec": {
   "display_name": "Python 3",
   "language": "python",
   "name": "python3"
  },
  "language_info": {
   "codemirror_mode": {
    "name": "ipython",
    "version": 3
   },
   "file_extension": ".py",
   "mimetype": "text/x-python",
   "name": "python",
   "nbconvert_exporter": "python",
   "pygments_lexer": "ipython3",
   "version": "3.8.8"
  }
 },
 "nbformat": 4,
 "nbformat_minor": 5
}
